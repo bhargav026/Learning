{
 "cells": [
  {
   "cell_type": "code",
   "execution_count": null,
   "id": "308b28a5",
   "metadata": {},
   "outputs": [],
   "source": [
    "import tkinter\n",
    "tw = tkinter.Tk() #Tk() is a class, creates an object tw\n",
    "tw.mainloop()\n"
   ]
  },
  {
   "cell_type": "code",
   "execution_count": null,
   "id": "de3d1f37",
   "metadata": {},
   "outputs": [],
   "source": [
    "import tkinter\n",
    "tw = tkinter.Tk() #Tk() is a class, creates an object tw\n",
    "tw.title('Bhargav\"s GUI')\n",
    "#img = tkinter.PhotoImage(file='123.png')\n",
    "#tw.iconphoto(tw,img)\n",
    "tw.geometry(\"800x600+600+250\")\n",
    "tw.mainloop()"
   ]
  },
  {
   "cell_type": "code",
   "execution_count": null,
   "id": "32b06f5a",
   "metadata": {},
   "outputs": [],
   "source": [
    "root = tkinter.Tk()\n",
    "#logo = tkinter.PhotoImage(file = '123.png')\n",
    "lbl = tkinter.Label(root, text = 'python is good',font = 'Arial 22 bold', bg ='red', fg = 'blue')\n",
    "lbl.pack() #to show the label on the screen\n",
    "root.geometry(\"600x200+600+250\")\n",
    "print(lbl.keys())\n",
    "root.mainloop()"
   ]
  },
  {
   "cell_type": "code",
   "execution_count": null,
   "id": "a2c02098",
   "metadata": {},
   "outputs": [],
   "source": [
    "import tkinter\n",
    "tw = tkinter.Tk()\n",
    "screenwidth=tw.winfo_screenwidth()\n",
    "print(screenwidth)\n",
    "screenheight=tw.winfo_screenheight()\n",
    "print(screenheight)\n",
    "width=screenwidth//2\n",
    "height=screenheight//2\n",
    "xco=screenwidth//4\n",
    "yco=screenheight//4\n",
    "tw.geometry(f\"{width}x{height}+{xco}+{yco}\")\n",
    "tw.resizable(False,False) \n",
    "tw.mainloop()\n"
   ]
  },
  {
   "cell_type": "markdown",
   "id": "661ee0da",
   "metadata": {},
   "source": [
    "# Using GUI Widgets\n",
    "## What Is A Widget ?"
   ]
  },
  {
   "cell_type": "markdown",
   "id": "4013d1b4",
   "metadata": {},
   "source": [
    "**Label**-Displays a text or an image.\n",
    "\n",
    "**Button**-A simple button, used to execute a command or other operation.\n",
    "\n",
    "**Entry**-A single-line text field for accepting values from a user.\n",
    "\n",
    "**Checkbutton**-display a number of options as checkboxes. The user can select multiple options at a time.\n",
    "\n",
    "**Radiobutton**-display a number of options as radio buttons. The user can select only one option at a time.\n",
    "\n",
    "**Listbox**-used to provide a list of options to a user.\n",
    "\n",
    "**messagebox**-Used to display message boxes in your applications.\n",
    "\n",
    "**Frame**-A container widget to organize other widgets.\n",
    "\n",
    "**Menu**-Used to implement pulldown and popup menus.\n",
    "\n",
    "**Canvas**-Used to draw shapes, such as lines, ovals, polygons and rectangles, in your application.\n",
    "\n",
    "**Message**-Used to display multiline text fields\n",
    "\n",
    "**Spinbox**-Used to allow the user select an option from a fixed number of values\n",
    "\n"
   ]
  },
  {
   "cell_type": "code",
   "execution_count": null,
   "id": "aacf53cf",
   "metadata": {},
   "outputs": [],
   "source": [
    "import tkinter.font as tkfont"
   ]
  },
  {
   "cell_type": "code",
   "execution_count": null,
   "id": "ccd5b50f",
   "metadata": {},
   "outputs": [],
   "source": [
    "from tkinter import *\n",
    "root = Tk()\n",
    "root.geometry('300x200')\n",
    "b1 = Button(root,text= 'Click me')\n",
    "b1.pack()\n",
    "root.mainloop()"
   ]
  },
  {
   "cell_type": "code",
   "execution_count": null,
   "id": "4747932e",
   "metadata": {},
   "outputs": [],
   "source": [
    "def showmsg():\n",
    "    #print('Welcome to gui')\n",
    "    l1 = tkinter.Label(root, text = 'python')\n",
    "    l1.pack()\n",
    "root = Tk()\n",
    "root.geometry('300x200')\n",
    "b1 = Button(root,text= 'Click me', command = showmsg)\n",
    "b1.pack()\n",
    "root.mainloop()"
   ]
  },
  {
   "cell_type": "code",
   "execution_count": null,
   "id": "57de90b3",
   "metadata": {},
   "outputs": [],
   "source": [
    "from datetime import date\n",
    "today = date.today()\n",
    "\n",
    "def showmsg():\n",
    "    #print('Welcome to gui')\n",
    "    l1 = tkinter.Label(root, text = today)\n",
    "    l1.pack()\n",
    "root = Tk()\n",
    "root.geometry('300x200')\n",
    "b1 = Button(root,text= 'Click me', command = showmsg)\n",
    "b1.pack()\n",
    "root.mainloop()"
   ]
  },
  {
   "cell_type": "code",
   "execution_count": 1,
   "id": "e4e09678",
   "metadata": {},
   "outputs": [
    {
     "data": {
      "text/plain": [
       "[]"
      ]
     },
     "execution_count": 1,
     "metadata": {},
     "output_type": "execute_result"
    }
   ],
   "source": [
    "[]"
   ]
  },
  {
   "cell_type": "code",
   "execution_count": 14,
   "id": "9d475108",
   "metadata": {},
   "outputs": [],
   "source": [
    "spam = (3.14, 'cat', 11, 'cat', True)"
   ]
  },
  {
   "cell_type": "code",
   "execution_count": 20,
   "id": "44f8d02c",
   "metadata": {},
   "outputs": [
    {
     "data": {
      "text/plain": [
       "[3.14, 'cat', 11, 'cat', True]"
      ]
     },
     "execution_count": 20,
     "metadata": {},
     "output_type": "execute_result"
    }
   ],
   "source": [
    "list(spam)"
   ]
  },
  {
   "cell_type": "code",
   "execution_count": 9,
   "id": "e93c2c8b",
   "metadata": {},
   "outputs": [],
   "source": [
    "spam.append(99)"
   ]
  },
  {
   "cell_type": "code",
   "execution_count": 10,
   "id": "6d999d91",
   "metadata": {},
   "outputs": [],
   "source": [
    "spam.remove('cat')"
   ]
  },
  {
   "cell_type": "code",
   "execution_count": 23,
   "id": "00acfb4e",
   "metadata": {},
   "outputs": [],
   "source": [
    "a= (42)"
   ]
  },
  {
   "cell_type": "code",
   "execution_count": 25,
   "id": "e1c4c547",
   "metadata": {},
   "outputs": [
    {
     "data": {
      "text/plain": [
       "int"
      ]
     },
     "execution_count": 25,
     "metadata": {},
     "output_type": "execute_result"
    }
   ],
   "source": [
    "type(a)"
   ]
  },
  {
   "cell_type": "code",
   "execution_count": 13,
   "id": "bdde81fc",
   "metadata": {},
   "outputs": [
    {
     "data": {
      "text/plain": [
       "[3.14, 11, 'cat', True, 99, 3.14, 11, 'cat', True, 99]"
      ]
     },
     "execution_count": 13,
     "metadata": {},
     "output_type": "execute_result"
    }
   ],
   "source": [
    "spam*2"
   ]
  },
  {
   "cell_type": "code",
   "execution_count": 26,
   "id": "439b53f9",
   "metadata": {},
   "outputs": [],
   "source": [
    "spam = {'bar':45}"
   ]
  },
  {
   "cell_type": "code",
   "execution_count": 29,
   "id": "bff4fecc",
   "metadata": {},
   "outputs": [
    {
     "ename": "KeyError",
     "evalue": "'foo'",
     "output_type": "error",
     "traceback": [
      "\u001b[1;31m---------------------------------------------------------------------------\u001b[0m",
      "\u001b[1;31mKeyError\u001b[0m                                  Traceback (most recent call last)",
      "\u001b[1;32m~\\AppData\\Local\\Temp\\ipykernel_6820\\3999281786.py\u001b[0m in \u001b[0;36m<module>\u001b[1;34m\u001b[0m\n\u001b[1;32m----> 1\u001b[1;33m \u001b[0mspam\u001b[0m\u001b[1;33m[\u001b[0m\u001b[1;34m'foo'\u001b[0m\u001b[1;33m]\u001b[0m\u001b[1;33m\u001b[0m\u001b[1;33m\u001b[0m\u001b[0m\n\u001b[0m",
      "\u001b[1;31mKeyError\u001b[0m: 'foo'"
     ]
    }
   ],
   "source": [
    "spam['foo']"
   ]
  },
  {
   "cell_type": "code",
   "execution_count": 34,
   "id": "469d2cca",
   "metadata": {},
   "outputs": [
    {
     "ename": "SyntaxError",
     "evalue": "invalid syntax (7934146.py, line 1)",
     "output_type": "error",
     "traceback": [
      "\u001b[1;36m  File \u001b[1;32m\"C:\\Users\\bharg\\AppData\\Local\\Temp\\ipykernel_6820\\7934146.py\"\u001b[1;36m, line \u001b[1;32m1\u001b[0m\n\u001b[1;33m    txt = \"We are the so-called \"Vikings\" from the north.\"\u001b[0m\n\u001b[1;37m                                 ^\u001b[0m\n\u001b[1;31mSyntaxError\u001b[0m\u001b[1;31m:\u001b[0m invalid syntax\n"
     ]
    }
   ],
   "source": [
    "txt = \"We are the so-called \"Vikings\" from the north.\""
   ]
  },
  {
   "cell_type": "code",
   "execution_count": 35,
   "id": "8398dfd7",
   "metadata": {},
   "outputs": [],
   "source": [
    "txt = \"We are the so-called \\\"Vikings\\\" from the north.\""
   ]
  },
  {
   "cell_type": "code",
   "execution_count": 36,
   "id": "c0bb7c2f",
   "metadata": {},
   "outputs": [
    {
     "data": {
      "text/plain": [
       "'We are the so-called \"Vikings\" from the north.'"
      ]
     },
     "execution_count": 36,
     "metadata": {},
     "output_type": "execute_result"
    }
   ],
   "source": [
    "txt"
   ]
  },
  {
   "cell_type": "code",
   "execution_count": 37,
   "id": "b4c6183a",
   "metadata": {},
   "outputs": [
    {
     "data": {
      "text/plain": [
       "'lo, world!'"
      ]
     },
     "execution_count": 37,
     "metadata": {},
     "output_type": "execute_result"
    }
   ],
   "source": [
    "'Hello, world!'[3:]"
   ]
  },
  {
   "cell_type": "code",
   "execution_count": 38,
   "id": "bb1a4cfe",
   "metadata": {},
   "outputs": [
    {
     "data": {
      "text/plain": [
       "'There-can-only-one.'"
      ]
     },
     "execution_count": 38,
     "metadata": {},
     "output_type": "execute_result"
    }
   ],
   "source": [
    "'-'.join('There can only one.'.split())"
   ]
  },
  {
   "cell_type": "code",
   "execution_count": 3,
   "id": "f480bff3",
   "metadata": {},
   "outputs": [],
   "source": [
    "import PyPDF2"
   ]
  },
  {
   "cell_type": "code",
   "execution_count": null,
   "id": "8580b75e",
   "metadata": {},
   "outputs": [],
   "source": [
    "PyPDF2.PdfFileReader.getPage().addTransformation() "
   ]
  }
 ],
 "metadata": {
  "kernelspec": {
   "display_name": "Python 3 (ipykernel)",
   "language": "python",
   "name": "python3"
  },
  "language_info": {
   "codemirror_mode": {
    "name": "ipython",
    "version": 3
   },
   "file_extension": ".py",
   "mimetype": "text/x-python",
   "name": "python",
   "nbconvert_exporter": "python",
   "pygments_lexer": "ipython3",
   "version": "3.9.13"
  }
 },
 "nbformat": 4,
 "nbformat_minor": 5
}
