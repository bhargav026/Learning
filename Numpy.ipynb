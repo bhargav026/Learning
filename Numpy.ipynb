{
 "cells": [
  {
   "cell_type": "code",
   "execution_count": 1,
   "id": "f2f0dde5",
   "metadata": {},
   "outputs": [],
   "source": [
    "import numpy as np"
   ]
  },
  {
   "cell_type": "code",
   "execution_count": 2,
   "id": "3aa81030",
   "metadata": {},
   "outputs": [],
   "source": [
    "l = [1,2,3,4,4]"
   ]
  },
  {
   "cell_type": "code",
   "execution_count": 3,
   "id": "a1f62531",
   "metadata": {},
   "outputs": [
    {
     "data": {
      "text/plain": [
       "array([1, 2, 3, 4, 4])"
      ]
     },
     "execution_count": 3,
     "metadata": {},
     "output_type": "execute_result"
    }
   ],
   "source": [
    "np.asarray(l)"
   ]
  },
  {
   "cell_type": "code",
   "execution_count": 4,
   "id": "79f81391",
   "metadata": {},
   "outputs": [
    {
     "data": {
      "text/plain": [
       "array([0., 0., 0., 0., 0., 0., 0.])"
      ]
     },
     "execution_count": 4,
     "metadata": {},
     "output_type": "execute_result"
    }
   ],
   "source": [
    "np.zeros(7)"
   ]
  },
  {
   "cell_type": "code",
   "execution_count": 5,
   "id": "cd925a17",
   "metadata": {},
   "outputs": [
    {
     "data": {
      "text/plain": [
       "array([1., 1., 1., 1., 1.])"
      ]
     },
     "execution_count": 5,
     "metadata": {},
     "output_type": "execute_result"
    }
   ],
   "source": [
    "np.ones(5)"
   ]
  },
  {
   "cell_type": "code",
   "execution_count": 6,
   "id": "7ca3d645",
   "metadata": {},
   "outputs": [
    {
     "data": {
      "text/plain": [
       "array([1, 1, 1, 1, 1])"
      ]
     },
     "execution_count": 6,
     "metadata": {},
     "output_type": "execute_result"
    }
   ],
   "source": [
    "np.ones_like(l)"
   ]
  },
  {
   "cell_type": "code",
   "execution_count": 7,
   "id": "9fbe0e89",
   "metadata": {},
   "outputs": [
    {
     "data": {
      "text/plain": [
       "array([1, 1, 1, 1, 1])"
      ]
     },
     "execution_count": 7,
     "metadata": {},
     "output_type": "execute_result"
    }
   ],
   "source": [
    "np.ones_like(np.array(l))"
   ]
  },
  {
   "cell_type": "code",
   "execution_count": 8,
   "id": "86fc8ff9",
   "metadata": {},
   "outputs": [
    {
     "data": {
      "text/plain": [
       "array([[5., 5., 5., 5.],\n",
       "       [5., 5., 5., 5.],\n",
       "       [5., 5., 5., 5.]])"
      ]
     },
     "execution_count": 8,
     "metadata": {},
     "output_type": "execute_result"
    }
   ],
   "source": [
    "np.zeros((3,4)) + 5"
   ]
  },
  {
   "cell_type": "code",
   "execution_count": 9,
   "id": "c56a3334",
   "metadata": {},
   "outputs": [
    {
     "data": {
      "text/plain": [
       "array([[5., 5., 5.],\n",
       "       [5., 5., 5.],\n",
       "       [5., 5., 5.],\n",
       "       [5., 5., 5.]])"
      ]
     },
     "execution_count": 9,
     "metadata": {},
     "output_type": "execute_result"
    }
   ],
   "source": [
    "np.empty((4,3))"
   ]
  },
  {
   "cell_type": "code",
   "execution_count": 18,
   "id": "928488fd",
   "metadata": {},
   "outputs": [
    {
     "data": {
      "text/plain": [
       "array([[[4.67296746e-307, 1.69121096e-306],\n",
       "        [7.56595733e-307, 7.56587585e-307],\n",
       "        [1.37961302e-306, 1.05699242e-307],\n",
       "        [8.01097889e-307, 1.78020169e-306]],\n",
       "\n",
       "       [[7.56601165e-307, 1.02359984e-306],\n",
       "        [8.90092016e-307, 1.02361342e-306],\n",
       "        [6.89804133e-307, 8.90104239e-307],\n",
       "        [8.90098127e-307, 8.90111708e-307]],\n",
       "\n",
       "       [[6.23054633e-307, 9.34598926e-307],\n",
       "        [1.42417629e-306, 1.11260687e-306],\n",
       "        [1.15710088e-306, 7.56597091e-307],\n",
       "        [9.34598925e-307, 8.34446411e-308]]])"
      ]
     },
     "execution_count": 18,
     "metadata": {},
     "output_type": "execute_result"
    }
   ],
   "source": [
    "np.empty((3,4,2))"
   ]
  },
  {
   "cell_type": "code",
   "execution_count": 13,
   "id": "ad388847",
   "metadata": {},
   "outputs": [
    {
     "data": {
      "text/plain": [
       "array([2.        , 2.08163265, 2.16326531, 2.24489796, 2.32653061,\n",
       "       2.40816327, 2.48979592, 2.57142857, 2.65306122, 2.73469388,\n",
       "       2.81632653, 2.89795918, 2.97959184, 3.06122449, 3.14285714,\n",
       "       3.2244898 , 3.30612245, 3.3877551 , 3.46938776, 3.55102041,\n",
       "       3.63265306, 3.71428571, 3.79591837, 3.87755102, 3.95918367,\n",
       "       4.04081633, 4.12244898, 4.20408163, 4.28571429, 4.36734694,\n",
       "       4.44897959, 4.53061224, 4.6122449 , 4.69387755, 4.7755102 ,\n",
       "       4.85714286, 4.93877551, 5.02040816, 5.10204082, 5.18367347,\n",
       "       5.26530612, 5.34693878, 5.42857143, 5.51020408, 5.59183673,\n",
       "       5.67346939, 5.75510204, 5.83673469, 5.91836735, 6.        ])"
      ]
     },
     "execution_count": 13,
     "metadata": {},
     "output_type": "execute_result"
    }
   ],
   "source": [
    "np.linspace(2,6)"
   ]
  },
  {
   "cell_type": "code",
   "execution_count": 21,
   "id": "cf624847",
   "metadata": {},
   "outputs": [
    {
     "data": {
      "text/plain": [
       "array([[2.        , 2.44444444],\n",
       "       [2.88888889, 3.33333333],\n",
       "       [3.77777778, 4.22222222],\n",
       "       [4.66666667, 5.11111111],\n",
       "       [5.55555556, 6.        ]])"
      ]
     },
     "execution_count": 21,
     "metadata": {},
     "output_type": "execute_result"
    }
   ],
   "source": [
    "np.linspace(2,6,10).reshape(5,2)"
   ]
  },
  {
   "cell_type": "code",
   "execution_count": 25,
   "id": "f97dad56",
   "metadata": {},
   "outputs": [
    {
     "data": {
      "text/plain": [
       "(array([2. , 2.4, 2.8, 3.2, 3.6, 4. , 4.4, 4.8, 5.2, 5.6]), 0.4)"
      ]
     },
     "execution_count": 25,
     "metadata": {},
     "output_type": "execute_result"
    }
   ],
   "source": [
    "np.linspace(2,6,10, endpoint = False, retstep = True) #whne retsetp is used Tuple is output, doesn't hav ereshape"
   ]
  },
  {
   "cell_type": "code",
   "execution_count": 27,
   "id": "cbecebb5",
   "metadata": {},
   "outputs": [
    {
     "data": {
      "text/plain": [
       "array([1.00000000e+02, 1.93069773e+02, 3.72759372e+02, 7.19685673e+02,\n",
       "       1.38949549e+03, 2.68269580e+03, 5.17947468e+03, 1.00000000e+04,\n",
       "       1.93069773e+04, 3.72759372e+04, 7.19685673e+04, 1.38949549e+05,\n",
       "       2.68269580e+05, 5.17947468e+05, 1.00000000e+06])"
      ]
     },
     "execution_count": 27,
     "metadata": {},
     "output_type": "execute_result"
    }
   ],
   "source": [
    "np.logspace(2,6,15, base = 10)"
   ]
  },
  {
   "cell_type": "code",
   "execution_count": 54,
   "id": "69402156",
   "metadata": {},
   "outputs": [],
   "source": [
    "a = np.random.randint(4,20, size = (4,4))"
   ]
  },
  {
   "cell_type": "code",
   "execution_count": 55,
   "id": "98048534",
   "metadata": {},
   "outputs": [
    {
     "data": {
      "text/plain": [
       "array([[18, 10, 15,  4],\n",
       "       [13, 18, 16,  6],\n",
       "       [17,  4,  4, 13],\n",
       "       [10, 13,  7, 17]])"
      ]
     },
     "execution_count": 55,
     "metadata": {},
     "output_type": "execute_result"
    }
   ],
   "source": [
    "a"
   ]
  },
  {
   "cell_type": "code",
   "execution_count": 56,
   "id": "1f644190",
   "metadata": {},
   "outputs": [
    {
     "data": {
      "text/plain": [
       "18"
      ]
     },
     "execution_count": 56,
     "metadata": {},
     "output_type": "execute_result"
    }
   ],
   "source": [
    "a.max()"
   ]
  },
  {
   "cell_type": "code",
   "execution_count": 57,
   "id": "694a514c",
   "metadata": {},
   "outputs": [
    {
     "data": {
      "text/plain": [
       "array([18, 18, 17, 17])"
      ]
     },
     "execution_count": 57,
     "metadata": {},
     "output_type": "execute_result"
    }
   ],
   "source": [
    "a.max(axis =1 )"
   ]
  },
  {
   "cell_type": "code",
   "execution_count": 58,
   "id": "4fb0ed78",
   "metadata": {},
   "outputs": [
    {
     "data": {
      "text/plain": [
       "array([18, 18, 16, 17])"
      ]
     },
     "execution_count": 58,
     "metadata": {},
     "output_type": "execute_result"
    }
   ],
   "source": [
    "a.max(axis =0 )"
   ]
  },
  {
   "cell_type": "code",
   "execution_count": 59,
   "id": "61bdf49c",
   "metadata": {},
   "outputs": [
    {
     "data": {
      "text/plain": [
       "array([[5832, 1000, 3375,   64],\n",
       "       [2197, 5832, 4096,  216],\n",
       "       [4913,   64,   64, 2197],\n",
       "       [1000, 2197,  343, 4913]], dtype=int32)"
      ]
     },
     "execution_count": 59,
     "metadata": {},
     "output_type": "execute_result"
    }
   ],
   "source": [
    "pow(a,3)\n",
    "a**3"
   ]
  },
  {
   "cell_type": "code",
   "execution_count": 61,
   "id": "f1def6f5",
   "metadata": {},
   "outputs": [],
   "source": [
    "b = np.array([2,4,3,5])"
   ]
  },
  {
   "cell_type": "code",
   "execution_count": 62,
   "id": "2d3c4b64",
   "metadata": {},
   "outputs": [
    {
     "data": {
      "text/plain": [
       "array([[20, 14, 18,  9],\n",
       "       [15, 22, 19, 11],\n",
       "       [19,  8,  7, 18],\n",
       "       [12, 17, 10, 22]])"
      ]
     },
     "execution_count": 62,
     "metadata": {},
     "output_type": "execute_result"
    }
   ],
   "source": [
    "a+b # adds this row to every row"
   ]
  },
  {
   "cell_type": "code",
   "execution_count": 63,
   "id": "06d60bde",
   "metadata": {},
   "outputs": [
    {
     "data": {
      "text/plain": [
       "array([[20, 14, 18,  9],\n",
       "       [15, 22, 19, 11],\n",
       "       [19,  8,  7, 18],\n",
       "       [12, 17, 10, 22]])"
      ]
     },
     "execution_count": 63,
     "metadata": {},
     "output_type": "execute_result"
    }
   ],
   "source": [
    "a+b.T"
   ]
  },
  {
   "cell_type": "code",
   "execution_count": 53,
   "id": "59ef6f49",
   "metadata": {},
   "outputs": [
    {
     "data": {
      "text/plain": [
       "(4,)"
      ]
     },
     "execution_count": 53,
     "metadata": {},
     "output_type": "execute_result"
    }
   ],
   "source": [
    "b.shape # for transpose or rotate the matrix , we need second other dimension"
   ]
  },
  {
   "cell_type": "code",
   "execution_count": 64,
   "id": "c7998c42",
   "metadata": {},
   "outputs": [
    {
     "data": {
      "text/plain": [
       "array([[20, 12, 17,  6],\n",
       "       [17, 22, 20, 10],\n",
       "       [20,  7,  7, 16],\n",
       "       [15, 18, 12, 22]])"
      ]
     },
     "execution_count": 64,
     "metadata": {},
     "output_type": "execute_result"
    }
   ],
   "source": [
    "a+b.reshape(1,-1).T"
   ]
  },
  {
   "cell_type": "code",
   "execution_count": 65,
   "id": "f9ac8bc4",
   "metadata": {},
   "outputs": [
    {
     "data": {
      "text/plain": [
       "array([[20, 12, 17,  6],\n",
       "       [17, 22, 20, 10],\n",
       "       [20,  7,  7, 16],\n",
       "       [15, 18, 12, 22]])"
      ]
     },
     "execution_count": 65,
     "metadata": {},
     "output_type": "execute_result"
    }
   ],
   "source": [
    "a+b.reshape(-1,1)"
   ]
  },
  {
   "cell_type": "code",
   "execution_count": 66,
   "id": "257210a7",
   "metadata": {},
   "outputs": [
    {
     "data": {
      "text/plain": [
       "array([[4.24264069, 3.16227766, 3.87298335, 2.        ],\n",
       "       [3.60555128, 4.24264069, 4.        , 2.44948974],\n",
       "       [4.12310563, 2.        , 2.        , 3.60555128],\n",
       "       [3.16227766, 3.60555128, 2.64575131, 4.12310563]])"
      ]
     },
     "execution_count": 66,
     "metadata": {},
     "output_type": "execute_result"
    }
   ],
   "source": [
    "np.sqrt(a)"
   ]
  },
  {
   "cell_type": "code",
   "execution_count": 67,
   "id": "c177e5c5",
   "metadata": {},
   "outputs": [
    {
     "data": {
      "text/plain": [
       "array([[6.56599691e+07, 2.20264658e+04, 3.26901737e+06, 5.45981500e+01],\n",
       "       [4.42413392e+05, 6.56599691e+07, 8.88611052e+06, 4.03428793e+02],\n",
       "       [2.41549528e+07, 5.45981500e+01, 5.45981500e+01, 4.42413392e+05],\n",
       "       [2.20264658e+04, 4.42413392e+05, 1.09663316e+03, 2.41549528e+07]])"
      ]
     },
     "execution_count": 67,
     "metadata": {},
     "output_type": "execute_result"
    }
   ],
   "source": [
    "np.exp(a)"
   ]
  },
  {
   "cell_type": "code",
   "execution_count": 68,
   "id": "56b85050",
   "metadata": {},
   "outputs": [
    {
     "data": {
      "text/plain": [
       "array([[4.169925  , 3.32192809, 3.9068906 , 2.        ],\n",
       "       [3.70043972, 4.169925  , 4.        , 2.5849625 ],\n",
       "       [4.08746284, 2.        , 2.        , 3.70043972],\n",
       "       [3.32192809, 3.70043972, 2.80735492, 4.08746284]])"
      ]
     },
     "execution_count": 68,
     "metadata": {},
     "output_type": "execute_result"
    }
   ],
   "source": [
    "np.log2(a)"
   ]
  },
  {
   "cell_type": "code",
   "execution_count": 126,
   "id": "59b111cd",
   "metadata": {},
   "outputs": [],
   "source": [
    "x = np.array([1,2,3])"
   ]
  },
  {
   "cell_type": "code",
   "execution_count": 127,
   "id": "2acf0a10",
   "metadata": {},
   "outputs": [
    {
     "data": {
      "text/plain": [
       "2289343286992"
      ]
     },
     "execution_count": 127,
     "metadata": {},
     "output_type": "execute_result"
    }
   ],
   "source": [
    "id(x)"
   ]
  },
  {
   "cell_type": "code",
   "execution_count": 128,
   "id": "475d0ff9",
   "metadata": {},
   "outputs": [],
   "source": [
    "y = x # deep copy"
   ]
  },
  {
   "cell_type": "code",
   "execution_count": 129,
   "id": "472788fa",
   "metadata": {},
   "outputs": [
    {
     "data": {
      "text/plain": [
       "2289343286992"
      ]
     },
     "execution_count": 129,
     "metadata": {},
     "output_type": "execute_result"
    }
   ],
   "source": [
    "id(y)"
   ]
  },
  {
   "cell_type": "code",
   "execution_count": 130,
   "id": "f89fe1d5",
   "metadata": {},
   "outputs": [],
   "source": [
    "z = np.copy(x) #sollow copy"
   ]
  },
  {
   "cell_type": "code",
   "execution_count": 131,
   "id": "080f3e39",
   "metadata": {},
   "outputs": [
    {
     "data": {
      "text/plain": [
       "2289343285360"
      ]
     },
     "execution_count": 131,
     "metadata": {},
     "output_type": "execute_result"
    }
   ],
   "source": [
    "id(z)"
   ]
  },
  {
   "cell_type": "code",
   "execution_count": 132,
   "id": "150be3fb",
   "metadata": {},
   "outputs": [],
   "source": [
    "x[0] = 10"
   ]
  },
  {
   "cell_type": "code",
   "execution_count": 133,
   "id": "a63aaef0",
   "metadata": {},
   "outputs": [
    {
     "data": {
      "text/plain": [
       "2289343286992"
      ]
     },
     "execution_count": 133,
     "metadata": {},
     "output_type": "execute_result"
    }
   ],
   "source": [
    "id(x)"
   ]
  },
  {
   "cell_type": "code",
   "execution_count": 134,
   "id": "bf3105fb",
   "metadata": {},
   "outputs": [
    {
     "data": {
      "text/plain": [
       "array([10,  2,  3])"
      ]
     },
     "execution_count": 134,
     "metadata": {},
     "output_type": "execute_result"
    }
   ],
   "source": [
    "y"
   ]
  },
  {
   "cell_type": "code",
   "execution_count": 135,
   "id": "3d921909",
   "metadata": {},
   "outputs": [
    {
     "data": {
      "text/plain": [
       "2289343286992"
      ]
     },
     "execution_count": 135,
     "metadata": {},
     "output_type": "execute_result"
    }
   ],
   "source": [
    "id(y) #x, y having same id as both are deep copy to each other  but not element wise i.e, id(x[0])  not sameas id(y[0])"
   ]
  },
  {
   "cell_type": "code",
   "execution_count": 136,
   "id": "b95f6add",
   "metadata": {},
   "outputs": [
    {
     "data": {
      "text/plain": [
       "array([1, 2, 3])"
      ]
     },
     "execution_count": 136,
     "metadata": {},
     "output_type": "execute_result"
    }
   ],
   "source": [
    "z"
   ]
  },
  {
   "cell_type": "code",
   "execution_count": 137,
   "id": "e5494a7a",
   "metadata": {},
   "outputs": [
    {
     "data": {
      "text/plain": [
       "2289343285360"
      ]
     },
     "execution_count": 137,
     "metadata": {},
     "output_type": "execute_result"
    }
   ],
   "source": [
    "id(z)"
   ]
  },
  {
   "cell_type": "code",
   "execution_count": 138,
   "id": "1c9eac97",
   "metadata": {},
   "outputs": [
    {
     "data": {
      "text/plain": [
       "2289336744656"
      ]
     },
     "execution_count": 138,
     "metadata": {},
     "output_type": "execute_result"
    }
   ],
   "source": [
    "id(x[0])"
   ]
  },
  {
   "cell_type": "code",
   "execution_count": 139,
   "id": "d6781ee7",
   "metadata": {},
   "outputs": [
    {
     "data": {
      "text/plain": [
       "2289336744336"
      ]
     },
     "execution_count": 139,
     "metadata": {},
     "output_type": "execute_result"
    }
   ],
   "source": [
    "id(y[0])"
   ]
  },
  {
   "cell_type": "code",
   "execution_count": 141,
   "id": "f6c5544d",
   "metadata": {},
   "outputs": [
    {
     "data": {
      "text/plain": [
       "True"
      ]
     },
     "execution_count": 141,
     "metadata": {},
     "output_type": "execute_result"
    }
   ],
   "source": [
    "id(x) == id(y) # looks okay"
   ]
  },
  {
   "cell_type": "code",
   "execution_count": 150,
   "id": "358ba2a6",
   "metadata": {},
   "outputs": [
    {
     "data": {
      "text/plain": [
       "True"
      ]
     },
     "execution_count": 150,
     "metadata": {},
     "output_type": "execute_result"
    }
   ],
   "source": [
    "id(x[0]) == id(y[0]) #looks weird, right?"
   ]
  },
  {
   "cell_type": "code",
   "execution_count": 151,
   "id": "8a401b45",
   "metadata": {},
   "outputs": [],
   "source": [
    "c = np.array([5,4,6])"
   ]
  },
  {
   "cell_type": "code",
   "execution_count": 154,
   "id": "3864a007",
   "metadata": {},
   "outputs": [
    {
     "data": {
      "text/plain": [
       "True"
      ]
     },
     "execution_count": 154,
     "metadata": {},
     "output_type": "execute_result"
    }
   ],
   "source": [
    "id(x[0]) == id(c[0]) # looks more weird."
   ]
  },
  {
   "cell_type": "markdown",
   "id": "e6c48389",
   "metadata": {},
   "source": [
    "# explore what is happening above?\n",
    "explanantion need to write"
   ]
  },
  {
   "cell_type": "code",
   "execution_count": 144,
   "id": "9bc42a56",
   "metadata": {},
   "outputs": [],
   "source": [
    "c = 'bhargav'"
   ]
  },
  {
   "cell_type": "code",
   "execution_count": 145,
   "id": "0f5fbce3",
   "metadata": {},
   "outputs": [
    {
     "data": {
      "text/plain": [
       "False"
      ]
     },
     "execution_count": 145,
     "metadata": {},
     "output_type": "execute_result"
    }
   ],
   "source": [
    "id(c) == id(x[0]) # this is clue"
   ]
  },
  {
   "cell_type": "code",
   "execution_count": 121,
   "id": "7e3482db",
   "metadata": {},
   "outputs": [],
   "source": [
    "x = x+2 #when new allocation is happened to X it's location(ID) will be changed , but not for y and vice versa"
   ]
  },
  {
   "cell_type": "code",
   "execution_count": 122,
   "id": "bc888b66",
   "metadata": {},
   "outputs": [
    {
     "data": {
      "text/plain": [
       "array([12,  4,  5])"
      ]
     },
     "execution_count": 122,
     "metadata": {},
     "output_type": "execute_result"
    }
   ],
   "source": [
    "x"
   ]
  },
  {
   "cell_type": "code",
   "execution_count": 123,
   "id": "4d774b8a",
   "metadata": {},
   "outputs": [
    {
     "data": {
      "text/plain": [
       "2289343285552"
      ]
     },
     "execution_count": 123,
     "metadata": {},
     "output_type": "execute_result"
    }
   ],
   "source": [
    "id(x)"
   ]
  },
  {
   "cell_type": "code",
   "execution_count": 124,
   "id": "50c8c533",
   "metadata": {},
   "outputs": [
    {
     "data": {
      "text/plain": [
       "array([10,  2,  3])"
      ]
     },
     "execution_count": 124,
     "metadata": {},
     "output_type": "execute_result"
    }
   ],
   "source": [
    "y"
   ]
  },
  {
   "cell_type": "code",
   "execution_count": 125,
   "id": "807b6428",
   "metadata": {},
   "outputs": [
    {
     "data": {
      "text/plain": [
       "2289343286224"
      ]
     },
     "execution_count": 125,
     "metadata": {},
     "output_type": "execute_result"
    }
   ],
   "source": [
    "id(y)"
   ]
  },
  {
   "cell_type": "code",
   "execution_count": 105,
   "id": "09102552",
   "metadata": {},
   "outputs": [
    {
     "data": {
      "text/plain": [
       "array([1, 2, 3])"
      ]
     },
     "execution_count": 105,
     "metadata": {},
     "output_type": "execute_result"
    }
   ],
   "source": [
    "z"
   ]
  },
  {
   "cell_type": "code",
   "execution_count": 106,
   "id": "cedfbc81",
   "metadata": {},
   "outputs": [],
   "source": [
    "x[1 ]  = 100"
   ]
  },
  {
   "cell_type": "code",
   "execution_count": 107,
   "id": "38562fb5",
   "metadata": {},
   "outputs": [
    {
     "data": {
      "text/plain": [
       "array([10,  2,  3])"
      ]
     },
     "execution_count": 107,
     "metadata": {},
     "output_type": "execute_result"
    }
   ],
   "source": [
    "y"
   ]
  },
  {
   "cell_type": "code",
   "execution_count": null,
   "id": "d22261f9",
   "metadata": {},
   "outputs": [],
   "source": []
  }
 ],
 "metadata": {
  "kernelspec": {
   "display_name": "Python 3 (ipykernel)",
   "language": "python",
   "name": "python3"
  },
  "language_info": {
   "codemirror_mode": {
    "name": "ipython",
    "version": 3
   },
   "file_extension": ".py",
   "mimetype": "text/x-python",
   "name": "python",
   "nbconvert_exporter": "python",
   "pygments_lexer": "ipython3",
   "version": "3.9.13"
  }
 },
 "nbformat": 4,
 "nbformat_minor": 5
}
