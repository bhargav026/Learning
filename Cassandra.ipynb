{
 "cells": [
  {
   "cell_type": "code",
   "execution_count": null,
   "id": "3a917e61",
   "metadata": {},
   "outputs": [],
   "source": []
  },
  {
   "cell_type": "markdown",
   "id": "9ee35622",
   "metadata": {},
   "source": [
    "Casandra: Designed by fb\n",
    "\n",
    "1. No sql database\n",
    "2. bcz of Scalability[Horizontally scalable]{sql databases are vertical so that intially we need to decide about future use, laptop rams vertical scalable} and high avilability , this is been used heavily.\n",
    "3. fault tolerence\n",
    "4. de-centralization , so there is no single point of failure\n",
    "5. elastic property (can read and write from mutliple s/m s at the same time)"
   ]
  },
  {
   "cell_type": "markdown",
   "id": "db7fca5c",
   "metadata": {},
   "source": [
    "datastax.com"
   ]
  },
  {
   "cell_type": "code",
   "execution_count": 1,
   "id": "5166d58f",
   "metadata": {},
   "outputs": [
    {
     "ename": "SyntaxError",
     "evalue": "invalid syntax (2037400610.py, line 3)",
     "output_type": "error",
     "traceback": [
      "\u001b[1;36m  File \u001b[1;32m\"C:\\Users\\bharg\\AppData\\Local\\Temp\\ipykernel_14712\\2037400610.py\"\u001b[1;36m, line \u001b[1;32m3\u001b[0m\n\u001b[1;33m    \"clientSecret\": \"FthtK03Q,tbUjwG1hQ3izl0ZfwRnku2WP3fkhH3lt7K9MmNdg,jxarO28tazZJzP+owvKNvyxxd5y6T+3drw8xO8PP6Ke9UnW-kc7Ca0Wb-ETDA1lmwx99x0XAhKZCUH\"\u001b[0m\n\u001b[1;37m                  ^\u001b[0m\n\u001b[1;31mSyntaxError\u001b[0m\u001b[1;31m:\u001b[0m invalid syntax\n"
     ]
    }
   ],
   "source": [
    "{\n",
    "  \"clientID\": \"fWITZbIOieckpmixhZwKdPzI\"\n",
    "  \"clientSecret\": \"FthtK03Q,tbUjwG1hQ3izl0ZfwRnku2WP3fkhH3lt7K9MmNdg,jxarO28tazZJzP+owvKNvyxxd5y6T+3drw8xO8PP6Ke9UnW-kc7Ca0Wb-ETDA1lmwx99x0XAhKZCUH\"\n",
    "  \"token\": \"AstraCS:fWITZbIOieckpmixhZwKdPzI:1a54ee00e14b320eff08efd85d04b0bca8f4d604d96f67b36bcde50261472f2d\"\n",
    "}"
   ]
  },
  {
   "cell_type": "code",
   "execution_count": null,
   "id": "99aa304d",
   "metadata": {},
   "outputs": [],
   "source": []
  }
 ],
 "metadata": {
  "kernelspec": {
   "display_name": "Python 3 (ipykernel)",
   "language": "python",
   "name": "python3"
  },
  "language_info": {
   "codemirror_mode": {
    "name": "ipython",
    "version": 3
   },
   "file_extension": ".py",
   "mimetype": "text/x-python",
   "name": "python",
   "nbconvert_exporter": "python",
   "pygments_lexer": "ipython3",
   "version": "3.9.13"
  }
 },
 "nbformat": 4,
 "nbformat_minor": 5
}
