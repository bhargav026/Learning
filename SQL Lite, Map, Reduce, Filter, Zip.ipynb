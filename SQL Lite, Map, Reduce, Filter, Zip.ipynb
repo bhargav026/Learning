{
 "cells": [
  {
   "cell_type": "code",
   "execution_count": null,
   "id": "53a0b0d7",
   "metadata": {},
   "outputs": [],
   "source": [
    "import sqlite3"
   ]
  },
  {
   "cell_type": "code",
   "execution_count": null,
   "id": "7a39f624",
   "metadata": {},
   "outputs": [],
   "source": [
    "db = sqlite3.connect('ineuron.db') #craete db file"
   ]
  },
  {
   "cell_type": "code",
   "execution_count": null,
   "id": "92a681f0",
   "metadata": {},
   "outputs": [],
   "source": [
    "ls"
   ]
  },
  {
   "cell_type": "code",
   "execution_count": null,
   "id": "3e4f522b",
   "metadata": {},
   "outputs": [],
   "source": [
    "#connect db with local system like could db in mongodb\n",
    "cursor = db.cursor()"
   ]
  },
  {
   "cell_type": "code",
   "execution_count": null,
   "id": "9d6c0e09",
   "metadata": {},
   "outputs": [],
   "source": [
    "cursor.execute('create table fsds(name text, batchid int, marks real)')"
   ]
  },
  {
   "cell_type": "code",
   "execution_count": null,
   "id": "a23f31f9",
   "metadata": {},
   "outputs": [],
   "source": [
    "ls"
   ]
  },
  {
   "cell_type": "code",
   "execution_count": null,
   "id": "2866e07a",
   "metadata": {},
   "outputs": [],
   "source": [
    "cursor.execute('insert into fsds values(\"bhargav\", 45 , 80 )')"
   ]
  },
  {
   "cell_type": "code",
   "execution_count": null,
   "id": "0264a72a",
   "metadata": {},
   "outputs": [],
   "source": [
    "ls"
   ]
  },
  {
   "cell_type": "code",
   "execution_count": null,
   "id": "a25c0ae9",
   "metadata": {},
   "outputs": [],
   "source": [
    "cursor.execute('insert into fsds values(\"bhargav1\", 45 , 80 )')"
   ]
  },
  {
   "cell_type": "code",
   "execution_count": null,
   "id": "ec7f794a",
   "metadata": {},
   "outputs": [],
   "source": [
    "ls"
   ]
  },
  {
   "cell_type": "code",
   "execution_count": null,
   "id": "77284912",
   "metadata": {},
   "outputs": [],
   "source": [
    "cursor.execute('select * from fsds')"
   ]
  },
  {
   "cell_type": "code",
   "execution_count": null,
   "id": "cb7918e1",
   "metadata": {},
   "outputs": [],
   "source": [
    "cursor.fetchall()"
   ]
  },
  {
   "cell_type": "code",
   "execution_count": null,
   "id": "d90d341a",
   "metadata": {},
   "outputs": [],
   "source": [
    "data = cursor.execute('select * from fsds')"
   ]
  },
  {
   "cell_type": "code",
   "execution_count": null,
   "id": "d0e3148d",
   "metadata": {},
   "outputs": [],
   "source": [
    "for i in data:\n",
    "    print(i)"
   ]
  },
  {
   "cell_type": "markdown",
   "id": "ed45bb9e",
   "metadata": {},
   "source": [
    "db.commit()"
   ]
  },
  {
   "cell_type": "code",
   "execution_count": null,
   "id": "f7911c22",
   "metadata": {},
   "outputs": [],
   "source": [
    "ls"
   ]
  },
  {
   "cell_type": "code",
   "execution_count": null,
   "id": "b2e73799",
   "metadata": {},
   "outputs": [],
   "source": [
    "cursor.execute('insert into fsds values(\"bhargav1\", 45 , 80 )')\n",
    "cursor.execute('insert into fsds values(\"bhargav1\", 45 , 80 )')\n",
    "cursor.execute('insert into fsds values(\"bhargav1\", 45 , 80 )')\n",
    "cursor.execute('insert into fsds values(\"bhargav1\", 45 , 80 )')"
   ]
  },
  {
   "cell_type": "code",
   "execution_count": null,
   "id": "22466731",
   "metadata": {},
   "outputs": [],
   "source": [
    "ls"
   ]
  },
  {
   "cell_type": "code",
   "execution_count": null,
   "id": "bbe6aca2",
   "metadata": {},
   "outputs": [],
   "source": [
    "db.commit()"
   ]
  },
  {
   "cell_type": "code",
   "execution_count": null,
   "id": "13e61b99",
   "metadata": {},
   "outputs": [],
   "source": [
    "ls"
   ]
  },
  {
   "cell_type": "code",
   "execution_count": null,
   "id": "8445a5a5",
   "metadata": {},
   "outputs": [],
   "source": [
    "data = cursor.execute('select * from fsds')\n",
    "for i in data:\n",
    "    print(i)"
   ]
  },
  {
   "cell_type": "code",
   "execution_count": null,
   "id": "312e4b64",
   "metadata": {},
   "outputs": [],
   "source": [
    "db.close()"
   ]
  },
  {
   "cell_type": "code",
   "execution_count": null,
   "id": "c1492f1a",
   "metadata": {},
   "outputs": [],
   "source": [
    "db = sqlite3.connect('ineuron.db')"
   ]
  },
  {
   "cell_type": "code",
   "execution_count": null,
   "id": "451e182f",
   "metadata": {},
   "outputs": [],
   "source": [
    "cursor = db.cursor()"
   ]
  },
  {
   "cell_type": "code",
   "execution_count": null,
   "id": "6bd5a057",
   "metadata": {},
   "outputs": [],
   "source": [
    "cursor.execute('select * from fsds where marks>75')"
   ]
  },
  {
   "cell_type": "code",
   "execution_count": null,
   "id": "1ce04c5b",
   "metadata": {},
   "outputs": [],
   "source": [
    "cursor.fetchall()"
   ]
  },
  {
   "cell_type": "code",
   "execution_count": null,
   "id": "1f36af1a",
   "metadata": {},
   "outputs": [],
   "source": [
    "cursor.execute('select name, marks from fsds order by marks')"
   ]
  },
  {
   "cell_type": "code",
   "execution_count": null,
   "id": "f52b65bd",
   "metadata": {},
   "outputs": [],
   "source": [
    "cursor.fetchall()"
   ]
  },
  {
   "cell_type": "code",
   "execution_count": null,
   "id": "ca998198",
   "metadata": {},
   "outputs": [],
   "source": [
    "db.close()"
   ]
  },
  {
   "cell_type": "code",
   "execution_count": null,
   "id": "5a26506e",
   "metadata": {},
   "outputs": [],
   "source": [
    "person = sqlite3.connect('person.db')"
   ]
  },
  {
   "cell_type": "code",
   "execution_count": null,
   "id": "fb1cb312",
   "metadata": {},
   "outputs": [],
   "source": [
    "c = person.cursor()"
   ]
  },
  {
   "cell_type": "code",
   "execution_count": null,
   "id": "0c067897",
   "metadata": {},
   "outputs": [],
   "source": [
    "c.execute('create table person_table(name text , emial text, age int, salary real)')"
   ]
  },
  {
   "cell_type": "code",
   "execution_count": null,
   "id": "f3193971",
   "metadata": {},
   "outputs": [],
   "source": [
    "c.execute('insert into person_table values(\"sudh\",\"@gmail.com\",45,8781540.4)')\n",
    "c.execute('insert into person_table values(\"shudh\",\"@yahoo.com\",45,8781540.4)')"
   ]
  },
  {
   "cell_type": "code",
   "execution_count": null,
   "id": "5e0bbb43",
   "metadata": {},
   "outputs": [],
   "source": [
    "ls"
   ]
  },
  {
   "cell_type": "code",
   "execution_count": null,
   "id": "72ca0280",
   "metadata": {},
   "outputs": [],
   "source": [
    "c.execute('select * from person_table')"
   ]
  },
  {
   "cell_type": "code",
   "execution_count": null,
   "id": "e68020a5",
   "metadata": {},
   "outputs": [],
   "source": [
    "c.fetchall()"
   ]
  },
  {
   "cell_type": "code",
   "execution_count": null,
   "id": "e2c541ea",
   "metadata": {},
   "outputs": [],
   "source": [
    "person.commit()"
   ]
  },
  {
   "cell_type": "code",
   "execution_count": null,
   "id": "c379ca26",
   "metadata": {},
   "outputs": [],
   "source": [
    "person.close()"
   ]
  },
  {
   "cell_type": "code",
   "execution_count": null,
   "id": "89e43e8b",
   "metadata": {},
   "outputs": [],
   "source": [
    "db = sqlite3.connect('ineuron.db')"
   ]
  },
  {
   "cell_type": "code",
   "execution_count": null,
   "id": "f6f6de8d",
   "metadata": {},
   "outputs": [],
   "source": [
    "c = db.cursor()"
   ]
  },
  {
   "cell_type": "code",
   "execution_count": null,
   "id": "f13ab303",
   "metadata": {},
   "outputs": [],
   "source": [
    "c.execute('drop table fsds')"
   ]
  },
  {
   "cell_type": "code",
   "execution_count": null,
   "id": "a5a42316",
   "metadata": {},
   "outputs": [],
   "source": [
    "c.execute('select * from fsds')"
   ]
  },
  {
   "cell_type": "code",
   "execution_count": null,
   "id": "7cb247fe",
   "metadata": {},
   "outputs": [],
   "source": [
    "ls"
   ]
  },
  {
   "cell_type": "code",
   "execution_count": null,
   "id": "cb0a8d84",
   "metadata": {},
   "outputs": [],
   "source": [
    "c.execute('drop database ineuron.db')"
   ]
  },
  {
   "cell_type": "code",
   "execution_count": null,
   "id": "e298a573",
   "metadata": {},
   "outputs": [],
   "source": [
    "db.close()"
   ]
  },
  {
   "cell_type": "code",
   "execution_count": null,
   "id": "8356ee9d",
   "metadata": {},
   "outputs": [],
   "source": [
    "db = sqlite3.connect('person.db')"
   ]
  },
  {
   "cell_type": "code",
   "execution_count": null,
   "id": "2f1f2287",
   "metadata": {},
   "outputs": [],
   "source": [
    "c= db.cursor()"
   ]
  },
  {
   "cell_type": "code",
   "execution_count": null,
   "id": "b84de5ea",
   "metadata": {},
   "outputs": [],
   "source": [
    "data = c.execute('select * from person_table limit 1')"
   ]
  },
  {
   "cell_type": "code",
   "execution_count": null,
   "id": "93b8afb6",
   "metadata": {},
   "outputs": [],
   "source": [
    "for i in data:\n",
    "    print(i)"
   ]
  },
  {
   "cell_type": "code",
   "execution_count": null,
   "id": "24710679",
   "metadata": {},
   "outputs": [],
   "source": [
    "data = c.execute('select * from person_table limit 2')"
   ]
  },
  {
   "cell_type": "code",
   "execution_count": null,
   "id": "587f70ab",
   "metadata": {},
   "outputs": [],
   "source": [
    "for i in data:\n",
    "    print(i)"
   ]
  },
  {
   "cell_type": "code",
   "execution_count": null,
   "id": "9cba63a6",
   "metadata": {},
   "outputs": [],
   "source": [
    "db.close()"
   ]
  },
  {
   "cell_type": "code",
   "execution_count": null,
   "id": "fd7e2f2a",
   "metadata": {},
   "outputs": [],
   "source": [
    "db = sqlite3.connect('join.db')"
   ]
  },
  {
   "cell_type": "code",
   "execution_count": null,
   "id": "6feeac31",
   "metadata": {},
   "outputs": [],
   "source": [
    "c= db.cursor()"
   ]
  },
  {
   "cell_type": "code",
   "execution_count": null,
   "id": "99c7252f",
   "metadata": {},
   "outputs": [],
   "source": [
    "c.execute('create table table1 (studentid int, studentname text, studentmail text, marks int)')"
   ]
  },
  {
   "cell_type": "code",
   "execution_count": null,
   "id": "2894752d",
   "metadata": {},
   "outputs": [],
   "source": [
    "c.execute('create table table2 (studentid int, pincode int, location text, nearby text, phone int)')"
   ]
  },
  {
   "cell_type": "code",
   "execution_count": null,
   "id": "317f7210",
   "metadata": {},
   "outputs": [],
   "source": [
    "c.execute('insert into table1 values(45,\"bhargav\",\"@gmail\", 87)')"
   ]
  },
  {
   "cell_type": "code",
   "execution_count": null,
   "id": "be67682a",
   "metadata": {},
   "outputs": [],
   "source": [
    "c.execute('insert into table1 values(46,\"bhargav\",\"@yahoo\", 85)')\n",
    "c.execute('insert into table1 values(47,\"bhargav0\",\"@gmail\", 77)')\n",
    "c.execute('insert into table1 values(48,\"bhargav1\",\"@gmail\", 67)')\n",
    "c.execute('insert into table1 values(49,\"bhargav2\",\"@gmail\", 87)')"
   ]
  },
  {
   "cell_type": "code",
   "execution_count": null,
   "id": "f3203833",
   "metadata": {},
   "outputs": [],
   "source": [
    "c.execute('insert into table1 values(468,\"bhargav\",\"@yahoo\", 85)')\n",
    "c.execute('insert into table1 values(4784,\"bhargav0\",\"@gmail\", 77)')\n",
    "c.execute('insert into table1 values(48584,\"bhargav1\",\"@gmail\", 67)')\n",
    "c.execute('insert into table1 values(4974848,\"bhargav2\",\"@gmail\", 87)')"
   ]
  },
  {
   "cell_type": "code",
   "execution_count": null,
   "id": "a589e805",
   "metadata": {},
   "outputs": [],
   "source": [
    "c.execute('insert into table2 values(45,560000, \"amity\", \"temple\",984494)')\n",
    "c.execute('insert into table2 values(486,560001, \"amiy\", \"temple\",98458494)')\n",
    "c.execute('insert into table2 values(498,560002, \"amty\", \"teple\",98449644)')\n",
    "c.execute('insert into table2 values(48,560003, \"aity\", \"temple\",98449441)')\n",
    "c.execute('insert into table2 values(49,560004, \"mity\", \"tmple\",98449454)')"
   ]
  },
  {
   "cell_type": "code",
   "execution_count": null,
   "id": "a50a0c78",
   "metadata": {},
   "outputs": [],
   "source": [
    "c.execute('insert into table2 values(455,560000, \"amity\", \"temple\",984494)')\n",
    "c.execute('insert into table2 values(467,560001, \"amiy\", \"temple\",98458494)')\n",
    "c.execute('insert into table2 values(47656,560002, \"amty\", \"teple\",98449644)')\n",
    "c.execute('insert into table2 values(4881,560003, \"aity\", \"temple\",98449441)')\n",
    "c.execute('insert into table2 values(49169,560004, \"mity\", \"tmple\",98449454)')"
   ]
  },
  {
   "cell_type": "code",
   "execution_count": null,
   "id": "71a178f9",
   "metadata": {},
   "outputs": [],
   "source": [
    "c.execute('select * from table1 s left join table2 a on s.studentid =a.studentid')"
   ]
  },
  {
   "cell_type": "code",
   "execution_count": null,
   "id": "aa3f40a3",
   "metadata": {},
   "outputs": [],
   "source": [
    "c.fetchall()"
   ]
  },
  {
   "cell_type": "code",
   "execution_count": null,
   "id": "52d20b61",
   "metadata": {},
   "outputs": [],
   "source": [
    "c.execute('select * from table1 s right join table2 a on s.studentid =a.studentid')"
   ]
  },
  {
   "cell_type": "code",
   "execution_count": null,
   "id": "22fd0e71",
   "metadata": {},
   "outputs": [],
   "source": [
    "c.fetchall()"
   ]
  },
  {
   "cell_type": "code",
   "execution_count": null,
   "id": "d11aa804",
   "metadata": {},
   "outputs": [],
   "source": [
    "for i in c.execute('select * from table1'):\n",
    "    print(i)"
   ]
  },
  {
   "cell_type": "code",
   "execution_count": null,
   "id": "1cdd87d4",
   "metadata": {},
   "outputs": [],
   "source": [
    "c.execute('delete from table1 where studentid >470')"
   ]
  },
  {
   "cell_type": "code",
   "execution_count": null,
   "id": "14e9e15b",
   "metadata": {},
   "outputs": [],
   "source": [
    "c.fetchall()"
   ]
  },
  {
   "cell_type": "code",
   "execution_count": null,
   "id": "8a1aa534",
   "metadata": {},
   "outputs": [],
   "source": [
    "for i in c.execute('select * from table1'):\n",
    "    print(i)"
   ]
  },
  {
   "cell_type": "code",
   "execution_count": null,
   "id": "0b14dad8",
   "metadata": {},
   "outputs": [],
   "source": [
    "c.execute(\"update table1 set studentid = 500 where studentid>47\")"
   ]
  },
  {
   "cell_type": "code",
   "execution_count": null,
   "id": "3c63242c",
   "metadata": {},
   "outputs": [],
   "source": [
    "c.fetchall()"
   ]
  },
  {
   "cell_type": "code",
   "execution_count": null,
   "id": "4f954f12",
   "metadata": {},
   "outputs": [],
   "source": [
    "c.execute('select * from table1')"
   ]
  },
  {
   "cell_type": "code",
   "execution_count": null,
   "id": "03415602",
   "metadata": {},
   "outputs": [],
   "source": [
    "c.fetchall()"
   ]
  },
  {
   "cell_type": "code",
   "execution_count": null,
   "id": "b52010aa",
   "metadata": {},
   "outputs": [],
   "source": [
    "db.close()"
   ]
  },
  {
   "cell_type": "markdown",
   "id": "0b17ec8e",
   "metadata": {},
   "source": [
    "# Map, Reduce, Filter"
   ]
  },
  {
   "cell_type": "code",
   "execution_count": 8,
   "id": "2072508d",
   "metadata": {},
   "outputs": [],
   "source": [
    "l =[1,2,3,4,58,8]"
   ]
  },
  {
   "cell_type": "code",
   "execution_count": null,
   "id": "8421a23c",
   "metadata": {},
   "outputs": [],
   "source": [
    "l1 = []\n",
    "for i in l:\n",
    "    l1.append(i+5)"
   ]
  },
  {
   "cell_type": "code",
   "execution_count": 6,
   "id": "477a5dc9",
   "metadata": {},
   "outputs": [
    {
     "data": {
      "text/plain": [
       "['4984', '684', '646', '5941']"
      ]
     },
     "execution_count": 6,
     "metadata": {},
     "output_type": "execute_result"
    }
   ],
   "source": [
    "l1"
   ]
  },
  {
   "cell_type": "code",
   "execution_count": 9,
   "id": "7b82aff9",
   "metadata": {},
   "outputs": [
    {
     "data": {
      "text/plain": [
       "[6, 7, 8, 9, 63, 13]"
      ]
     },
     "execution_count": 9,
     "metadata": {},
     "output_type": "execute_result"
    }
   ],
   "source": [
    "[i+5 for i in l]"
   ]
  },
  {
   "cell_type": "code",
   "execution_count": null,
   "id": "029abc02",
   "metadata": {},
   "outputs": [],
   "source": [
    "def test(a):\n",
    "    return a+5"
   ]
  },
  {
   "cell_type": "code",
   "execution_count": null,
   "id": "33f120df",
   "metadata": {},
   "outputs": [],
   "source": [
    "#mapping\n",
    "\n",
    "map(test,l)"
   ]
  },
  {
   "cell_type": "code",
   "execution_count": null,
   "id": "5fca86f8",
   "metadata": {},
   "outputs": [],
   "source": [
    "list(map(test,l))"
   ]
  },
  {
   "cell_type": "code",
   "execution_count": null,
   "id": "2c1acb56",
   "metadata": {},
   "outputs": [],
   "source": [
    "def test1(a):\n",
    "    return a*88946+5+48"
   ]
  },
  {
   "cell_type": "code",
   "execution_count": null,
   "id": "a6991ad4",
   "metadata": {},
   "outputs": [],
   "source": [
    "list(map(test1,l))"
   ]
  },
  {
   "cell_type": "code",
   "execution_count": 1,
   "id": "4bd5c71d",
   "metadata": {},
   "outputs": [],
   "source": [
    "l1 = ['4984','684','646','5941']\n",
    "#covert into int type"
   ]
  },
  {
   "cell_type": "code",
   "execution_count": 2,
   "id": "210ff5a3",
   "metadata": {},
   "outputs": [],
   "source": [
    "def str2int(a):\n",
    "    return int(a)"
   ]
  },
  {
   "cell_type": "code",
   "execution_count": null,
   "id": "c64ae4a6",
   "metadata": {},
   "outputs": [],
   "source": [
    "list(map(str2int,l1))"
   ]
  },
  {
   "cell_type": "code",
   "execution_count": 5,
   "id": "e6e28d37",
   "metadata": {},
   "outputs": [
    {
     "data": {
      "text/plain": [
       "[4984, 684, 646, 5941]"
      ]
     },
     "execution_count": 5,
     "metadata": {},
     "output_type": "execute_result"
    }
   ],
   "source": [
    "list(map(lambda x:int(x), l1))"
   ]
  },
  {
   "cell_type": "code",
   "execution_count": 4,
   "id": "ce1462b2",
   "metadata": {},
   "outputs": [
    {
     "ename": "TypeError",
     "evalue": "can only concatenate str (not \"int\") to str",
     "output_type": "error",
     "traceback": [
      "\u001b[1;31m---------------------------------------------------------------------------\u001b[0m",
      "\u001b[1;31mTypeError\u001b[0m                                 Traceback (most recent call last)",
      "\u001b[1;32m~\\AppData\\Local\\Temp\\ipykernel_13652\\4180363989.py\u001b[0m in \u001b[0;36m<module>\u001b[1;34m\u001b[0m\n\u001b[1;32m----> 1\u001b[1;33m \u001b[0mlist\u001b[0m\u001b[1;33m(\u001b[0m\u001b[0mmap\u001b[0m\u001b[1;33m(\u001b[0m\u001b[1;32mlambda\u001b[0m \u001b[0mx\u001b[0m\u001b[1;33m:\u001b[0m\u001b[0mx\u001b[0m\u001b[1;33m+\u001b[0m\u001b[1;36m5\u001b[0m\u001b[1;33m,\u001b[0m\u001b[0ml1\u001b[0m\u001b[1;33m)\u001b[0m\u001b[1;33m)\u001b[0m\u001b[1;33m\u001b[0m\u001b[1;33m\u001b[0m\u001b[0m\n\u001b[0m",
      "\u001b[1;32m~\\AppData\\Local\\Temp\\ipykernel_13652\\4180363989.py\u001b[0m in \u001b[0;36m<lambda>\u001b[1;34m(x)\u001b[0m\n\u001b[1;32m----> 1\u001b[1;33m \u001b[0mlist\u001b[0m\u001b[1;33m(\u001b[0m\u001b[0mmap\u001b[0m\u001b[1;33m(\u001b[0m\u001b[1;32mlambda\u001b[0m \u001b[0mx\u001b[0m\u001b[1;33m:\u001b[0m\u001b[0mx\u001b[0m\u001b[1;33m+\u001b[0m\u001b[1;36m5\u001b[0m\u001b[1;33m,\u001b[0m\u001b[0ml1\u001b[0m\u001b[1;33m)\u001b[0m\u001b[1;33m)\u001b[0m\u001b[1;33m\u001b[0m\u001b[1;33m\u001b[0m\u001b[0m\n\u001b[0m",
      "\u001b[1;31mTypeError\u001b[0m: can only concatenate str (not \"int\") to str"
     ]
    }
   ],
   "source": [
    "list(map(lambda x:x+5,l))"
   ]
  },
  {
   "cell_type": "code",
   "execution_count": null,
   "id": "4de466ec",
   "metadata": {},
   "outputs": [],
   "source": [
    "l = [4,5,6,897,8787,878]"
   ]
  },
  {
   "cell_type": "code",
   "execution_count": null,
   "id": "a92b89ce",
   "metadata": {},
   "outputs": [],
   "source": [
    "def test2(a):\n",
    "    if a%2 == 0:\n",
    "        return a"
   ]
  },
  {
   "cell_type": "code",
   "execution_count": null,
   "id": "f2cda4b6",
   "metadata": {},
   "outputs": [],
   "source": [
    "list(map(test2, l))"
   ]
  },
  {
   "cell_type": "code",
   "execution_count": null,
   "id": "87e6abc1",
   "metadata": {},
   "outputs": [],
   "source": [
    "[i for i in l if i%2 == 0]"
   ]
  },
  {
   "cell_type": "code",
   "execution_count": null,
   "id": "5697e6cf",
   "metadata": {},
   "outputs": [],
   "source": [
    "#filter\n",
    "list(filter(test2,l))"
   ]
  },
  {
   "cell_type": "code",
   "execution_count": null,
   "id": "e574ebee",
   "metadata": {},
   "outputs": [],
   "source": [
    "list(filter(lambda x: x%2 ==0,l))"
   ]
  },
  {
   "cell_type": "code",
   "execution_count": null,
   "id": "c9e9aa1d",
   "metadata": {},
   "outputs": [],
   "source": [
    "list(filter(lambda x: x+5,l))"
   ]
  },
  {
   "cell_type": "code",
   "execution_count": null,
   "id": "f579e812",
   "metadata": {},
   "outputs": [],
   "source": [
    "# reduce function \n",
    "from functools import reduce"
   ]
  },
  {
   "cell_type": "code",
   "execution_count": null,
   "id": "9a59e067",
   "metadata": {},
   "outputs": [],
   "source": [
    "l = [2,3,5,589,87,584]"
   ]
  },
  {
   "cell_type": "code",
   "execution_count": null,
   "id": "8db3a005",
   "metadata": {},
   "outputs": [],
   "source": [
    "sum(l)"
   ]
  },
  {
   "cell_type": "code",
   "execution_count": null,
   "id": "742f82e0",
   "metadata": {},
   "outputs": [],
   "source": [
    "def test3(a,b):\n",
    "    return a+b"
   ]
  },
  {
   "cell_type": "code",
   "execution_count": null,
   "id": "3c5113f5",
   "metadata": {},
   "outputs": [],
   "source": [
    "reduce(test3,l)"
   ]
  },
  {
   "cell_type": "code",
   "execution_count": null,
   "id": "0249301d",
   "metadata": {},
   "outputs": [],
   "source": [
    "def test4(a,b):\n",
    "    return a*b"
   ]
  },
  {
   "cell_type": "code",
   "execution_count": null,
   "id": "a6af6a75",
   "metadata": {},
   "outputs": [],
   "source": [
    "reduce(test4,l)"
   ]
  },
  {
   "cell_type": "code",
   "execution_count": null,
   "id": "ea539b3c",
   "metadata": {},
   "outputs": [],
   "source": [
    "def test3(a,b,c):\n",
    "    return a+b+c"
   ]
  },
  {
   "cell_type": "code",
   "execution_count": null,
   "id": "a1271dd2",
   "metadata": {},
   "outputs": [],
   "source": [
    "reduce(test3,l)"
   ]
  },
  {
   "cell_type": "code",
   "execution_count": null,
   "id": "a72a2769",
   "metadata": {},
   "outputs": [],
   "source": [
    "def test3(a,b):\n",
    "    return a+b"
   ]
  },
  {
   "cell_type": "code",
   "execution_count": null,
   "id": "c4071fa4",
   "metadata": {},
   "outputs": [],
   "source": [
    "l=[4]"
   ]
  },
  {
   "cell_type": "code",
   "execution_count": null,
   "id": "4cabc24f",
   "metadata": {},
   "outputs": [],
   "source": [
    "reduce(test3,l) #exception case when list have only one element "
   ]
  },
  {
   "cell_type": "code",
   "execution_count": null,
   "id": "d49bd081",
   "metadata": {},
   "outputs": [],
   "source": [
    "reduce(test4,l)"
   ]
  },
  {
   "cell_type": "code",
   "execution_count": null,
   "id": "fe0ade4c",
   "metadata": {},
   "outputs": [],
   "source": [
    "l = []"
   ]
  },
  {
   "cell_type": "code",
   "execution_count": null,
   "id": "c7d8ff81",
   "metadata": {},
   "outputs": [],
   "source": [
    "reduce(test3,l)"
   ]
  },
  {
   "cell_type": "code",
   "execution_count": null,
   "id": "01c00567",
   "metadata": {},
   "outputs": [],
   "source": [
    "l = [2,3,5,589,87,584]"
   ]
  },
  {
   "cell_type": "code",
   "execution_count": null,
   "id": "1bc858ce",
   "metadata": {},
   "outputs": [],
   "source": [
    "reduce(lambda x,y: x+y, l)"
   ]
  },
  {
   "cell_type": "code",
   "execution_count": null,
   "id": "0fedf5a7",
   "metadata": {},
   "outputs": [],
   "source": [
    "reduce(lambda x,y: x*y, l)"
   ]
  },
  {
   "cell_type": "code",
   "execution_count": null,
   "id": "10450aa4",
   "metadata": {},
   "outputs": [],
   "source": [
    "reduce(lambda x,y: x/y, l)"
   ]
  },
  {
   "cell_type": "code",
   "execution_count": null,
   "id": "dbdfd63e",
   "metadata": {},
   "outputs": [],
   "source": [
    "l = [1,2,3,4,5,9,89]"
   ]
  },
  {
   "cell_type": "code",
   "execution_count": null,
   "id": "415be9e2",
   "metadata": {},
   "outputs": [],
   "source": [
    "l1 = [4,9,479,9,9,1,9,7,8]"
   ]
  },
  {
   "cell_type": "code",
   "execution_count": null,
   "id": "767c6b9c",
   "metadata": {},
   "outputs": [],
   "source": [
    "list(zip(l,l1))"
   ]
  },
  {
   "cell_type": "code",
   "execution_count": null,
   "id": "bddd7b4e",
   "metadata": {},
   "outputs": [],
   "source": [
    "l2= ['kilada','bhargav','hcahsiun','killada']"
   ]
  },
  {
   "cell_type": "code",
   "execution_count": null,
   "id": "71a8a320",
   "metadata": {},
   "outputs": [],
   "source": [
    "list(zip(l,l1,l2))"
   ]
  },
  {
   "cell_type": "code",
   "execution_count": null,
   "id": "91b8e003",
   "metadata": {},
   "outputs": [],
   "source": [
    "\"\"\"Task:\n",
    "    1. take bag of words dataset (download last 5 text files)\n",
    "    2. try to find out a count of each and every word in a respective file return a lsit of tuple with word and its respective count\n",
    "            [('sudh',6),(\"kumar\",4)]\n",
    "    3. try to perform reduce operation to get a count of all the word starting with same alphabet\n",
    "         sample example: [('a',56),('b',89)]\n",
    "    4. trt to filter out all the words from dataset without any punctuations\n",
    "    5. create a tuple set of all the records avilable in all the five files and then store it in sqlite DB\"\"\""
   ]
  },
  {
   "cell_type": "code",
   "execution_count": 16,
   "id": "39f92116",
   "metadata": {},
   "outputs": [
    {
     "name": "stdout",
     "output_type": "stream",
     "text": [
      "<generator object <genexpr> at 0x000001ED49F7DC10>\n"
     ]
    }
   ],
   "source": [
    "print(lambda i:i for i in range(10))"
   ]
  },
  {
   "cell_type": "code",
   "execution_count": 18,
   "id": "d420e361",
   "metadata": {},
   "outputs": [
    {
     "name": "stdout",
     "output_type": "stream",
     "text": [
      "<function <lambda> at 0x000001ED49F7CB80>\n"
     ]
    }
   ],
   "source": [
    "print(lambda x: [print(i) for i in x])"
   ]
  },
  {
   "cell_type": "code",
   "execution_count": null,
   "id": "eef67461",
   "metadata": {},
   "outputs": [],
   "source": []
  }
 ],
 "metadata": {
  "kernelspec": {
   "display_name": "Python 3 (ipykernel)",
   "language": "python",
   "name": "python3"
  },
  "language_info": {
   "codemirror_mode": {
    "name": "ipython",
    "version": 3
   },
   "file_extension": ".py",
   "mimetype": "text/x-python",
   "name": "python",
   "nbconvert_exporter": "python",
   "pygments_lexer": "ipython3",
   "version": "3.9.13"
  }
 },
 "nbformat": 4,
 "nbformat_minor": 5
}
